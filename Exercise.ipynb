{
 "cells": [
  {
   "cell_type": "markdown",
   "metadata": {},
   "source": [
    "# Exercise\n",
    "Build explanations for the Titanic Dataset using Lime or SHAP. Feel free to use your preferred dataset. "
   ]
  },
  {
   "cell_type": "code",
   "execution_count": null,
   "metadata": {},
   "outputs": [],
   "source": [
    "from sklearn.model_selection import train_test_split\n",
    "from sklearn.preprocessing import OneHotEncoder\n",
    "from sklearn.impute import SimpleImputer\n",
    "from sklearn.metrics import *\n",
    "import pandas as pd\n",
    "import numpy as np\n",
    "\n",
    "def print_metrics(y_test: list, y_pred: list):\n",
    "    \"\"\"\n",
    "    Args:\n",
    "        y_test (list):  Ground truth (correct) labels.\n",
    "\n",
    "        y_pred (list): Predicted labels, as returned by a classifier.\n",
    "        \n",
    "    \"\"\"\n",
    "    print(\"Accuracy: {}\".format(accuracy_score(y_test, y_pred)))\n",
    "    print(\"Recall  : {}\".format(recall_score(y_test, y_pred)))\n",
    "    print(\"F1-Score: {}\".format(f1_score(y_test, y_pred)))\n",
    "\n",
    "def preprocessing_dataframe(data_df: object, missing_values_to_convert : list, categorical_to_encode: list) -> object: \n",
    "    \"\"\"\n",
    "    Args:\n",
    "        dataset (Dataframe): Dataset \n",
    "\n",
    "        missing_values_to_convert (list): List of features names from dataset to impute missing values. Each missing value is \n",
    "            fill with mean\n",
    "        \n",
    "        categorical_to_encode (list): List of categorical features names to encode using OneHotEncoding\n",
    "        \n",
    "    Returns:\n",
    "        DataFrame: converted dataset\n",
    "    \"\"\"\n",
    "        \n",
    "    # Handle Missing Values\n",
    "    for feature in missing_values_to_convert: \n",
    "        imputer = SimpleImputer(missing_values=np.nan, strategy='mean')\n",
    "        data_df[feature] = imputer.fit_transform(data_df[[feature]])\n",
    "\n",
    "    # One Hot Encoding\n",
    "    for feature in categorical_to_encode: \n",
    "        onehot_encoding = pd.get_dummies(data_df[feature],prefix=feature)\n",
    "        data_df = pd.concat([data_df, pd.get_dummies(data_df[feature], prefix=feature)],axis=1)\n",
    "        data_df.drop([feature],axis=1, inplace=True)\n",
    "\n",
    "    return data_df\n"
   ]
  },
  {
   "cell_type": "code",
   "execution_count": 1,
   "metadata": {},
   "outputs": [],
   "source": [
    "# Load the dataset and preprocess the data\n",
    "data_df = pd.read_excel(\"Data/titanic_dataset.xls\").set_index(\"name\")\n"
   ]
  },
  {
   "cell_type": "code",
   "execution_count": 37,
   "metadata": {},
   "outputs": [],
   "source": [
    "# Train a ML model and evaluate \n",
    "\n",
    "\n"
   ]
  },
  {
   "cell_type": "code",
   "execution_count": 36,
   "metadata": {},
   "outputs": [],
   "source": [
    "# Explanations \n",
    "\n",
    "\n"
   ]
  }
 ],
 "metadata": {
  "kernelspec": {
   "display_name": "Python 3",
   "language": "python",
   "name": "python3"
  },
  "language_info": {
   "codemirror_mode": {
    "name": "ipython",
    "version": 3
   },
   "file_extension": ".py",
   "mimetype": "text/x-python",
   "name": "python",
   "nbconvert_exporter": "python",
   "pygments_lexer": "ipython3",
   "version": "3.7.4"
  }
 },
 "nbformat": 4,
 "nbformat_minor": 4
}
